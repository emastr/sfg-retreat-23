{
 "cells": [
  {
   "cell_type": "markdown",
   "metadata": {},
   "source": [
    "## Task 2: Load Data\n",
    "\n",
    "Use the ``get_u1()`` function from ``secret.tools``. Plah around with the returned object. It has some nice properties:\n",
    "\n",
    "* You can plot using ``u1.plot(plt.gca(), cmap='gray')`` (after ``import matplotlib.pyplot as plt``).\n",
    "* You can add two of these functions: ``u1 + u2`` returns an object of the same type. Same goes for multiplication with scalars, i.e. ``2.*u1``\n",
    "* You can take derivatives: ``u.diff(degree_x, degree_y)``.\n",
    "* You can evaluate in vectors ``x``, ``y`` by calling ``u1(x, y)``. This is slow.\n",
    "* If your score was too high, you might need to write your own solver. You can extract the function values of $u_1$ on a uniform grid by calling ``u1.eval_grid()``. This operation is fast.\n",
    "\n"
   ]
  },
  {
   "cell_type": "code",
   "execution_count": 5,
   "metadata": {},
   "outputs": [],
   "source": [
    "from secret.tools import get_u1\n",
    "import matplotlib.pyplot as plt"
   ]
  }
 ],
 "metadata": {
  "kernelspec": {
   "display_name": "pimlenv",
   "language": "python",
   "name": "python3"
  },
  "language_info": {
   "codemirror_mode": {
    "name": "ipython",
    "version": 3
   },
   "file_extension": ".py",
   "mimetype": "text/x-python",
   "name": "python",
   "nbconvert_exporter": "python",
   "pygments_lexer": "ipython3",
   "version": "3.8.12"
  }
 },
 "nbformat": 4,
 "nbformat_minor": 2
}
