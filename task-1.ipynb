{
 "cells": [
  {
   "cell_type": "markdown",
   "metadata": {},
   "source": [
    "## Task 1 - Decrypting the simulation tools\n",
    "\n",
    "Your task is to decrypt the numerical tools needed to run forensics on the smudged image. Give the answers to questions 1-12 in the form of a python list containing twelve tuples of size 2 each, containing your upper and lower bound (in the correct unit). \n",
    "\n",
    "### Example:\n",
    "\n",
    "Emanuel is not so sure about any of the questions, so he puts an interval of $(10^{-10}, 10^{10})$ as his answer. For all the questions. He would then run the following code snippet:\n",
    "\n",
    "```\n",
    "from secret.tools import decrypt\n",
    "\n",
    "guess = [(1e-10, 1e10) for _ in range(12)]\n",
    "decrypt(guess)\n",
    "```\n",
    "\n",
    "To which the output would be:\n",
    "\n",
    "```\n",
    "Score = 1.2e21\n",
    "Decryption Failed. Score too high. Try again.\n",
    "```\n",
    "\n",
    "Write your guesses here:"
   ]
  },
  {
   "cell_type": "code",
   "execution_count": 2,
   "metadata": {},
   "outputs": [],
   "source": [
    "from secret.tools import decrypt\n"
   ]
  },
  {
   "cell_type": "markdown",
   "metadata": {},
   "source": []
  }
 ],
 "metadata": {
  "kernelspec": {
   "display_name": "pimlenv",
   "language": "python",
   "name": "python3"
  },
  "language_info": {
   "codemirror_mode": {
    "name": "ipython",
    "version": 3
   },
   "file_extension": ".py",
   "mimetype": "text/x-python",
   "name": "python",
   "nbconvert_exporter": "python",
   "pygments_lexer": "ipython3",
   "version": "3.8.12"
  }
 },
 "nbformat": 4,
 "nbformat_minor": 2
}
